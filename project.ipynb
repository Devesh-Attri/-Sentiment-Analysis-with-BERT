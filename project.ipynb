{
  "cells": [
    {
      "cell_type": "code",
      "execution_count": 4,
      "metadata": {
        "colab": {
          "base_uri": "https://localhost:8080/"
        },
        "id": "lq7bnkyshBjp",
        "outputId": "cb8c6ab4-6e20-4b2b-e776-42df748a09f7"
      },
      "outputs": [
        {
          "name": "stdout",
          "output_type": "stream",
          "text": [
            "                                              review sentiment\n",
            "0  One of the other reviewers has mentioned that ...  positive\n",
            "1  A wonderful little production. <br /><br />The...  positive\n",
            "2  I thought this was a wonderful way to spend ti...  positive\n",
            "3  Basically there's a family where a little boy ...  negative\n",
            "4  Petter Mattei's \"Love in the Time of Money\" is...  positive\n"
          ]
        }
      ],
      "source": [
        "import pandas as pd\n",
        "\n",
        "# Load the dataset\n",
        "file_path = '/Users/deveshattri/Desktop/MegaMinds Internship/IMDB Dataset.csv'\n",
        "imdb_dataset = pd.read_csv(file_path)\n",
        "\n",
        "# Display the first few rows of the dataset\n",
        "print(imdb_dataset.head())\n"
      ]
    },
    {
      "cell_type": "code",
      "execution_count": 5,
      "metadata": {
        "id": "kM8xgs0NkoGK"
      },
      "outputs": [],
      "source": [
        "from sklearn.model_selection import train_test_split\n",
        "from transformers import BertTokenizer\n",
        "\n",
        "# Remove duplicates and null values\n",
        "imdb_dataset = imdb_dataset.drop_duplicates().dropna()\n",
        "\n",
        "# Split the dataset into training and testing sets\n",
        "train_data, test_data = train_test_split(imdb_dataset, test_size=0.2, random_state=42)\n",
        "\n",
        "# Load the BERT tokenizer\n",
        "tokenizer = BertTokenizer.from_pretrained('bert-base-uncased')\n",
        "\n",
        "# Tokenize the dataset\n",
        "def tokenize_data(data):\n",
        "    return tokenizer(data['review'].tolist(), padding='max_length', truncation=True, return_tensors=\"pt\")\n",
        "\n",
        "train_tokens = tokenize_data(train_data)\n",
        "test_tokens = tokenize_data(test_data)\n"
      ]
    },
    {
      "cell_type": "code",
      "execution_count": 6,
      "metadata": {
        "id": "gkSu5FXnmY8W"
      },
      "outputs": [],
      "source": [
        "import torch\n",
        "from torch.utils.data import Dataset, DataLoader\n",
        "\n",
        "class IMDBDataset(Dataset):\n",
        "    def __init__(self, encodings, labels):\n",
        "        self.encodings = encodings\n",
        "        self.labels = labels\n",
        "\n",
        "    def __getitem__(self, idx):\n",
        "        item = {key: torch.tensor(val[idx]) for key, val in self.encodings.items()}\n",
        "        item['labels'] = torch.tensor(self.labels[idx])\n",
        "        return item\n",
        "\n",
        "    def __len__(self):\n",
        "        return len(self.labels)\n",
        "\n",
        "train_labels = train_data['sentiment'].apply(lambda x: 1 if x == 'positive' else 0).tolist()\n",
        "test_labels = test_data['sentiment'].apply(lambda x: 1 if x == 'positive' else 0).tolist()\n",
        "\n",
        "train_dataset = IMDBDataset(train_tokens, train_labels)\n",
        "test_dataset = IMDBDataset(test_tokens, test_labels)\n"
      ]
    },
    {
      "cell_type": "code",
      "execution_count": 7,
      "metadata": {
        "colab": {
          "base_uri": "https://localhost:8080/",
          "height": 592
        },
        "id": "FQVUgWZumhL8",
        "outputId": "dab3bc31-0883-48bd-d8c4-86a07f16f885"
      },
      "outputs": [
        {
          "name": "stderr",
          "output_type": "stream",
          "text": [
            "Some weights of BertForSequenceClassification were not initialized from the model checkpoint at bert-base-uncased and are newly initialized: ['classifier.bias', 'classifier.weight']\n",
            "You should probably TRAIN this model on a down-stream task to be able to use it for predictions and inference.\n",
            "/Users/deveshattri/Desktop/MegaMinds Internship/.venv/lib/python3.10/site-packages/transformers/training_args.py:1489: FutureWarning: using `no_cuda` is deprecated and will be removed in version 5.0 of 🤗 Transformers. Use `use_cpu` instead\n",
            "  warnings.warn(\n"
          ]
        },
        {
          "data": {
            "application/vnd.jupyter.widget-view+json": {
              "model_id": "dead24bf81a6477394a662f2de85c021",
              "version_major": 2,
              "version_minor": 0
            },
            "text/plain": [
              "  0%|          | 0/600 [00:00<?, ?it/s]"
            ]
          },
          "metadata": {},
          "output_type": "display_data"
        },
        {
          "name": "stderr",
          "output_type": "stream",
          "text": [
            "/var/folders/p1/5swwv58x6zx6zvpgsynmmnjm0000gn/T/ipykernel_77068/2609057923.py:10: UserWarning: To copy construct from a tensor, it is recommended to use sourceTensor.clone().detach() or sourceTensor.clone().detach().requires_grad_(True), rather than torch.tensor(sourceTensor).\n",
            "  item = {key: torch.tensor(val[idx]) for key, val in self.encodings.items()}\n"
          ]
        },
        {
          "name": "stdout",
          "output_type": "stream",
          "text": [
            "{'loss': 0.7012, 'grad_norm': 6.774988174438477, 'learning_rate': 1.0000000000000002e-06, 'epoch': 0.05}\n",
            "{'loss': 0.6821, 'grad_norm': 11.505744934082031, 'learning_rate': 2.0000000000000003e-06, 'epoch': 0.1}\n",
            "{'loss': 0.6903, 'grad_norm': 7.213844299316406, 'learning_rate': 3e-06, 'epoch': 0.15}\n",
            "{'loss': 0.708, 'grad_norm': 12.112350463867188, 'learning_rate': 4.000000000000001e-06, 'epoch': 0.2}\n",
            "{'loss': 0.7023, 'grad_norm': 8.102845191955566, 'learning_rate': 5e-06, 'epoch': 0.25}\n",
            "{'loss': 0.6891, 'grad_norm': 3.6958343982696533, 'learning_rate': 6e-06, 'epoch': 0.3}\n",
            "{'loss': 0.6693, 'grad_norm': 3.397529125213623, 'learning_rate': 7.000000000000001e-06, 'epoch': 0.35}\n",
            "{'loss': 0.6855, 'grad_norm': 7.077503681182861, 'learning_rate': 8.000000000000001e-06, 'epoch': 0.4}\n",
            "{'loss': 0.7244, 'grad_norm': 11.456257820129395, 'learning_rate': 9e-06, 'epoch': 0.45}\n",
            "{'loss': 0.6378, 'grad_norm': 9.263278007507324, 'learning_rate': 1e-05, 'epoch': 0.5}\n",
            "{'loss': 0.6435, 'grad_norm': 5.17078971862793, 'learning_rate': 1.1000000000000001e-05, 'epoch': 0.55}\n",
            "{'loss': 0.6433, 'grad_norm': 18.817609786987305, 'learning_rate': 1.2e-05, 'epoch': 0.6}\n",
            "{'loss': 0.568, 'grad_norm': 5.463505268096924, 'learning_rate': 1.3000000000000001e-05, 'epoch': 0.65}\n",
            "{'loss': 0.5735, 'grad_norm': 12.980254173278809, 'learning_rate': 1.4000000000000001e-05, 'epoch': 0.7}\n",
            "{'loss': 0.5255, 'grad_norm': 16.267839431762695, 'learning_rate': 1.5e-05, 'epoch': 0.75}\n",
            "{'loss': 0.3941, 'grad_norm': 21.514713287353516, 'learning_rate': 1.6000000000000003e-05, 'epoch': 0.8}\n",
            "{'loss': 0.4113, 'grad_norm': 6.50313663482666, 'learning_rate': 1.7000000000000003e-05, 'epoch': 0.85}\n",
            "{'loss': 0.4091, 'grad_norm': 4.2133588790893555, 'learning_rate': 1.8e-05, 'epoch': 0.9}\n",
            "{'loss': 0.3803, 'grad_norm': 9.822961807250977, 'learning_rate': 1.9e-05, 'epoch': 0.95}\n",
            "{'loss': 0.2918, 'grad_norm': 16.257217407226562, 'learning_rate': 2e-05, 'epoch': 1.0}\n",
            "{'loss': 0.2174, 'grad_norm': 35.93767547607422, 'learning_rate': 2.1e-05, 'epoch': 1.05}\n",
            "{'loss': 0.2142, 'grad_norm': 0.8383815288543701, 'learning_rate': 2.2000000000000003e-05, 'epoch': 1.1}\n",
            "{'loss': 0.2249, 'grad_norm': 0.3764198422431946, 'learning_rate': 2.3000000000000003e-05, 'epoch': 1.15}\n",
            "{'loss': 0.1921, 'grad_norm': 0.37240535020828247, 'learning_rate': 2.4e-05, 'epoch': 1.2}\n",
            "{'loss': 0.3792, 'grad_norm': 85.32254028320312, 'learning_rate': 2.5e-05, 'epoch': 1.25}\n",
            "{'loss': 0.3604, 'grad_norm': 114.29502868652344, 'learning_rate': 2.6000000000000002e-05, 'epoch': 1.3}\n",
            "{'loss': 0.2823, 'grad_norm': 22.997905731201172, 'learning_rate': 2.7000000000000002e-05, 'epoch': 1.35}\n",
            "{'loss': 0.1438, 'grad_norm': 0.14276252686977386, 'learning_rate': 2.8000000000000003e-05, 'epoch': 1.4}\n",
            "{'loss': 0.2706, 'grad_norm': 43.23723602294922, 'learning_rate': 2.9e-05, 'epoch': 1.45}\n",
            "{'loss': 0.6073, 'grad_norm': 0.21782569587230682, 'learning_rate': 3e-05, 'epoch': 1.5}\n",
            "{'loss': 0.129, 'grad_norm': 11.407483100891113, 'learning_rate': 3.1e-05, 'epoch': 1.55}\n",
            "{'loss': 0.5275, 'grad_norm': 2.4346251487731934, 'learning_rate': 3.2000000000000005e-05, 'epoch': 1.6}\n",
            "{'loss': 0.1549, 'grad_norm': 0.33523544669151306, 'learning_rate': 3.3e-05, 'epoch': 1.65}\n",
            "{'loss': 0.4714, 'grad_norm': 1.2169169187545776, 'learning_rate': 3.4000000000000007e-05, 'epoch': 1.7}\n",
            "{'loss': 0.0037, 'grad_norm': 0.0636076033115387, 'learning_rate': 3.5e-05, 'epoch': 1.75}\n",
            "{'loss': 0.6719, 'grad_norm': 0.2386021912097931, 'learning_rate': 3.6e-05, 'epoch': 1.8}\n",
            "{'loss': 0.6303, 'grad_norm': 11.586996078491211, 'learning_rate': 3.7e-05, 'epoch': 1.85}\n",
            "{'loss': 0.4727, 'grad_norm': 0.259051114320755, 'learning_rate': 3.8e-05, 'epoch': 1.9}\n",
            "{'loss': 0.5273, 'grad_norm': 0.6666512489318848, 'learning_rate': 3.9000000000000006e-05, 'epoch': 1.95}\n",
            "{'loss': 0.3647, 'grad_norm': 0.4063113033771515, 'learning_rate': 4e-05, 'epoch': 2.0}\n",
            "{'loss': 0.1598, 'grad_norm': 23.578506469726562, 'learning_rate': 4.1e-05, 'epoch': 2.05}\n",
            "{'loss': 0.277, 'grad_norm': 1.2172832489013672, 'learning_rate': 4.2e-05, 'epoch': 2.1}\n",
            "{'loss': 0.404, 'grad_norm': 0.12351018190383911, 'learning_rate': 4.3e-05, 'epoch': 2.15}\n",
            "{'loss': 0.7297, 'grad_norm': 9.60638427734375, 'learning_rate': 4.4000000000000006e-05, 'epoch': 2.2}\n",
            "{'loss': 0.1544, 'grad_norm': 0.28036966919898987, 'learning_rate': 4.5e-05, 'epoch': 2.25}\n",
            "{'loss': 0.4361, 'grad_norm': 0.08868801593780518, 'learning_rate': 4.600000000000001e-05, 'epoch': 2.3}\n",
            "{'loss': 0.3758, 'grad_norm': 0.3130132555961609, 'learning_rate': 4.7e-05, 'epoch': 2.35}\n",
            "{'loss': 0.0592, 'grad_norm': 0.08177269995212555, 'learning_rate': 4.8e-05, 'epoch': 2.4}\n",
            "{'loss': 0.2477, 'grad_norm': 0.9250388145446777, 'learning_rate': 4.9e-05, 'epoch': 2.45}\n",
            "{'loss': 0.4671, 'grad_norm': 10.989068984985352, 'learning_rate': 5e-05, 'epoch': 2.5}\n"
          ]
        },
        {
          "name": "stderr",
          "output_type": "stream",
          "text": [
            "/var/folders/p1/5swwv58x6zx6zvpgsynmmnjm0000gn/T/ipykernel_77068/2609057923.py:10: UserWarning: To copy construct from a tensor, it is recommended to use sourceTensor.clone().detach() or sourceTensor.clone().detach().requires_grad_(True), rather than torch.tensor(sourceTensor).\n",
            "  item = {key: torch.tensor(val[idx]) for key, val in self.encodings.items()}\n"
          ]
        },
        {
          "name": "stdout",
          "output_type": "stream",
          "text": [
            "{'loss': 0.3334, 'grad_norm': 0.2813985347747803, 'learning_rate': 4.5e-05, 'epoch': 2.55}\n",
            "{'loss': 0.2375, 'grad_norm': 0.09375448524951935, 'learning_rate': 4e-05, 'epoch': 2.6}\n",
            "{'loss': 0.2341, 'grad_norm': 17.614187240600586, 'learning_rate': 3.5e-05, 'epoch': 2.65}\n",
            "{'loss': 0.1503, 'grad_norm': 26.835676193237305, 'learning_rate': 3e-05, 'epoch': 2.7}\n",
            "{'loss': 0.2835, 'grad_norm': 0.9994214177131653, 'learning_rate': 2.5e-05, 'epoch': 2.75}\n",
            "{'loss': 0.0876, 'grad_norm': 0.5390771627426147, 'learning_rate': 2e-05, 'epoch': 2.8}\n",
            "{'loss': 0.1757, 'grad_norm': 0.03979887068271637, 'learning_rate': 1.5e-05, 'epoch': 2.85}\n",
            "{'loss': 0.1382, 'grad_norm': 0.041395846754312515, 'learning_rate': 1e-05, 'epoch': 2.9}\n",
            "{'loss': 0.002, 'grad_norm': 0.17792600393295288, 'learning_rate': 5e-06, 'epoch': 2.95}\n",
            "{'loss': 0.1717, 'grad_norm': 55.51280975341797, 'learning_rate': 0.0, 'epoch': 3.0}\n",
            "{'train_runtime': 3877.0092, 'train_samples_per_second': 0.618, 'train_steps_per_second': 0.155, 'train_loss': 0.39501675105964146, 'epoch': 3.0}\n"
          ]
        },
        {
          "data": {
            "text/plain": [
              "TrainOutput(global_step=600, training_loss=0.39501675105964146, metrics={'train_runtime': 3877.0092, 'train_samples_per_second': 0.618, 'train_steps_per_second': 0.155, 'total_flos': 630677199697920.0, 'train_loss': 0.39501675105964146, 'epoch': 3.0})"
            ]
          },
          "execution_count": 7,
          "metadata": {},
          "output_type": "execute_result"
        }
      ],
      "source": [
        "from transformers import BertForSequenceClassification, Trainer, TrainingArguments\n",
        "import torch\n",
        "\n",
        "# Check for available device\n",
        "device = torch.device(\"mps\" if torch.backends.mps.is_available() else \"cpu\")\n",
        "\n",
        "# Load the BERT model\n",
        "model = BertForSequenceClassification.from_pretrained('bert-base-uncased')\n",
        "model.to(device)\n",
        "\n",
        "# Define training arguments with a smaller batch size\n",
        "training_args = TrainingArguments(\n",
        "    output_dir='./results',\n",
        "    num_train_epochs=3,\n",
        "    per_device_train_batch_size=4,  # Reduce batch size\n",
        "    per_device_eval_batch_size=4,   # Reduce batch size\n",
        "    warmup_steps=500,\n",
        "    weight_decay=0.01,\n",
        "    logging_dir='./logs',\n",
        "    logging_steps=10,\n",
        "    fp16=False,  # Ensure mixed precision training is disabled\n",
        "    no_cuda=True,  # Disable CUDA as MPS is used\n",
        ")\n",
        "\n",
        "# Initialize the Trainer\n",
        "trainer = Trainer(\n",
        "    model=model,\n",
        "    args=training_args,\n",
        "    train_dataset=train_dataset,\n",
        "    eval_dataset=test_dataset,\n",
        ")\n",
        "# Train the model\n",
        "trainer.train()"
      ]
    },
    {
      "cell_type": "code",
      "execution_count": 20,
      "metadata": {},
      "outputs": [],
      "source": [
        "# Save the model\n",
        "model.save_pretrained('./saved_model')"
      ]
    },
    {
      "cell_type": "code",
      "execution_count": 8,
      "metadata": {},
      "outputs": [],
      "source": [
        "from textattack.datasets import Dataset\n",
        "\n",
        "# Create a custom dataset for TextAttack\n",
        "class CustomDataset(Dataset):\n",
        "    def __init__(self, reviews, labels):\n",
        "        self.reviews = reviews\n",
        "        self.labels = labels\n",
        "\n",
        "    def __len__(self):\n",
        "        return len(self.labels)\n",
        "\n",
        "    def __getitem__(self, idx):\n",
        "        return self.reviews[idx], self.labels[idx]\n",
        "\n",
        "# Prepare the dataset for TextAttack\n",
        "train_reviews = train_data['review'].tolist()\n",
        "train_labels = train_data['sentiment'].apply(lambda x: 1 if x == 'positive' else 0).tolist()\n",
        "\n",
        "train_dataset_attack = CustomDataset(train_reviews, train_labels)\n"
      ]
    },
    {
      "cell_type": "code",
      "execution_count": 9,
      "metadata": {},
      "outputs": [
        {
          "name": "stderr",
          "output_type": "stream",
          "text": [
            "textattack: Unknown if model of class <class 'transformers.models.bert.modeling_bert.BertForSequenceClassification'> compatible with goal function <class 'textattack.goal_functions.classification.untargeted_classification.UntargetedClassification'>.\n"
          ]
        }
      ],
      "source": [
        "from textattack.attack_recipes import TextFoolerJin2019\n",
        "from textattack.models.wrappers import HuggingFaceModelWrapper\n",
        "\n",
        "# Wrap the model\n",
        "model_wrapper = HuggingFaceModelWrapper(model, tokenizer)\n",
        "\n",
        "# Generate adversarial examples using TextFooler\n",
        "attack = TextFoolerJin2019.build(model_wrapper)\n"
      ]
    },
    {
      "cell_type": "code",
      "execution_count": 17,
      "metadata": {},
      "outputs": [
        {
          "name": "stderr",
          "output_type": "stream",
          "text": [
            "textattack: Unknown if model of class <class 'transformers.models.bert.modeling_bert.BertForSequenceClassification'> compatible with goal function <class 'textattack.goal_functions.classification.untargeted_classification.UntargetedClassification'>.\n",
            "textattack: Loading \u001b[94mdatasets\u001b[0m dataset \u001b[94mimdb\u001b[0m, split \u001b[94mtrain\u001b[0m.\n"
          ]
        },
        {
          "name": "stdout",
          "output_type": "stream",
          "text": [
            "Attack(\n",
            "  (search_method): GreedyWordSwapWIR(\n",
            "    (wir_method):  unk\n",
            "  )\n",
            "  (goal_function):  UntargetedClassification\n",
            "  (transformation):  WordSwapEmbedding(\n",
            "    (max_candidates):  15\n",
            "    (embedding):  WordEmbedding\n",
            "  )\n",
            "  (constraints): \n",
            "    (0): StopwordModification\n",
            "  (is_black_box):  True\n",
            ") \n",
            "\n"
          ]
        },
        {
          "name": "stderr",
          "output_type": "stream",
          "text": []
        },
        {
          "name": "stdout",
          "output_type": "stream",
          "text": [
            "--------------------------------------------- Result 1 ---------------------------------------------\n"
          ]
        },
        {
          "name": "stderr",
          "output_type": "stream",
          "text": [
            "  0%|          | 0/5 [03:02<?, ?it/s]\n"
          ]
        },
        {
          "name": "stdout",
          "output_type": "stream",
          "text": [
            "[[Negative (100%)]] --> [[Positive (52%)]]\n",
            "\n",
            "I rented I AM CURIOUS-YELLOW from my video store because of all the controversy that surrounded it when it was first released in 1967. I also heard that at first it was seized by U.S. customs if it ever tried to enter this country, therefore being a fan of films considered \"controversial\" I really had to see this for myself.<br /><br />The plot is centered around a young Swedish drama student named Lena who wants to learn everything she can about life. In particular she wants to focus her attentions to making some sort of documentary on what the average Swede thought about certain political issues such as the Vietnam War and race issues in the United States. In between asking politicians and ordinary denizens of Stockholm about their opinions on politics, she has sex with her drama teacher, classmates, and married men.<br /><br />What kills me about I AM CURIOUS-YELLOW is that 40 years ago, this was considered pornographic. Really, the sex and nudity scenes are few and far between, even then it's not shot like some cheaply made porno. While my countrymen mind find it shocking, in reality sex and nudity are a major staple in Swedish cinema. Even Ingmar Bergman, arguably their answer to good old boy John Ford, had sex scenes in his films.<br /><br />I do commend the filmmakers for the fact that any sex shown in the [[film]] is shown for artistic purposes rather than just to shock people and make money to be shown in pornographic theaters in America. [[I]] AM CURIOUS-YELLOW is a good film for anyone wanting to study the meat and potatoes (no pun intended) of Swedish cinema. But [[really]], this film doesn't have [[much]] of a [[plot]].\n",
            "\n",
            "I rented I AM CURIOUS-YELLOW from my video store because of all the controversy that surrounded it when it was first released in 1967. I also heard that at first it was seized by U.S. customs if it ever tried to enter this country, therefore being a fan of films considered \"controversial\" I really had to see this for myself.<br /><br />The plot is centered around a young Swedish drama student named Lena who wants to learn everything she can about life. In particular she wants to focus her attentions to making some sort of documentary on what the average Swede thought about certain political issues such as the Vietnam War and race issues in the United States. In between asking politicians and ordinary denizens of Stockholm about their opinions on politics, she has sex with her drama teacher, classmates, and married men.<br /><br />What kills me about I AM CURIOUS-YELLOW is that 40 years ago, this was considered pornographic. Really, the sex and nudity scenes are few and far between, even then it's not shot like some cheaply made porno. While my countrymen mind find it shocking, in reality sex and nudity are a major staple in Swedish cinema. Even Ingmar Bergman, arguably their answer to good old boy John Ford, had sex scenes in his films.<br /><br />I do commend the filmmakers for the fact that any sex shown in the [[cinematographic]] is shown for artistic purposes rather than just to shock people and make money to be shown in pornographic theaters in America. [[jag]] AM CURIOUS-YELLOW is a good film for anyone wanting to study the meat and potatoes (no pun intended) of Swedish cinema. But [[authentic]], this film doesn't have [[heavily]] of a [[conspiracies]].\n",
            "\n",
            "\n"
          ]
        },
        {
          "name": "stderr",
          "output_type": "stream",
          "text": []
        },
        {
          "name": "stdout",
          "output_type": "stream",
          "text": [
            "--------------------------------------------- Result 2 ---------------------------------------------\n",
            "[[Negative (100%)]] --> [[Positive (54%)]]\n",
            "\n",
            "\"I Am Curious: Yellow\" is a risible and [[pretentious]] steaming [[pile]]. It doesn't [[matter]] what one's political views are because this [[film]] can [[hardly]] be taken [[seriously]] on any level. As for the claim that frontal male nudity is an automatic NC-17, that isn't true. I've [[seen]] R-rated films with male [[nudity]]. Granted, they only offer some fleeting views, but where are the R-rated films with gaping vulvas and flapping labia? Nowhere, because they don't exist. The same goes for those crappy [[cable]] shows: schlongs swinging in the breeze but not a clitoris in sight. [[And]] those pretentious [[indie]] movies [[like]] The Brown [[Bunny]], in which we're treated to the site of Vincent Gallo's throbbing [[johnson]], but not a trace of pink visible on Chloe Sevigny. [[Before]] [[crying]] (or [[implying]]) \"double-standard\" in matters of nudity, the mentally obtuse should take into account one unavoidably obvious anatomical difference between men and women: there are no genitals on display when actresses appears nude, and the same cannot be said for a man. In [[fact]], you [[generally]] won't see female genitals in an American film in anything short of porn or explicit erotica. This alleged double-standard is less a double standard than an admittedly depressing ability to come to terms culturally with the insides of women's [[bodies]].\n",
            "\n",
            "\"I Am Curious: Yellow\" is a risible and [[cocky]] steaming [[stack]]. It doesn't [[question]] what one's political views are because this [[movie]] can [[rarely]] be taken [[severely]] on any level. As for the claim that frontal male nudity is an automatic NC-17, that isn't true. I've [[vu]] R-rated films with male [[pornography]]. Granted, they only offer some fleeting views, but where are the R-rated films with gaping vulvas and flapping labia? Nowhere, because they don't exist. The same goes for those crappy [[rope]] shows: schlongs swinging in the breeze but not a clitoris in sight. [[Hence]] those pretentious [[jockey]] movies [[such]] The Brown [[Pigeon]], in which we're treated to the site of Vincent Gallo's throbbing [[richardson]], but not a trace of pink visible on Chloe Sevigny. [[Until]] [[weeping]] (or [[hinting]]) \"double-standard\" in matters of nudity, the mentally obtuse should take into account one unavoidably obvious anatomical difference between men and women: there are no genitals on display when actresses appears nude, and the same cannot be said for a man. In [[doing]], you [[habitually]] won't see female genitals in an American film in anything short of porn or explicit erotica. This alleged double-standard is less a double standard than an admittedly depressing ability to come to terms culturally with the insides of women's [[organisations]].\n",
            "\n",
            "\n"
          ]
        },
        {
          "name": "stderr",
          "output_type": "stream",
          "text": []
        },
        {
          "name": "stdout",
          "output_type": "stream",
          "text": [
            "--------------------------------------------- Result 3 ---------------------------------------------\n",
            "[[Negative (100%)]] --> [[Positive (69%)]]\n",
            "\n",
            "If only to [[avoid]] making this type of film in the [[future]]. This film is interesting as an experiment but tells no cogent story.<br /><br />One [[might]] feel virtuous for sitting thru it because it touches on so many IMPORTANT issues but it does so without any discernable motive. The viewer comes away with no new perspectives (unless one comes up with one while one's mind wanders, as it will invariably do during this [[pointless]] film).<br /><br />One might better spend one's time staring out a window at a tree growing.<br /><br />\n",
            "\n",
            "If only to [[evita]] making this type of film in the [[futures]]. This film is interesting as an experiment but tells no cogent story.<br /><br />One [[conceivably]] feel virtuous for sitting thru it because it touches on so many IMPORTANT issues but it does so without any discernable motive. The viewer comes away with no new perspectives (unless one comes up with one while one's mind wanders, as it will invariably do during this [[dispensable]] film).<br /><br />One might better spend one's time staring out a window at a tree growing.<br /><br />\n",
            "\n",
            "\n"
          ]
        },
        {
          "name": "stderr",
          "output_type": "stream",
          "text": []
        },
        {
          "name": "stdout",
          "output_type": "stream",
          "text": [
            "--------------------------------------------- Result 4 ---------------------------------------------\n",
            "[[Negative (100%)]] --> [[Positive (99%)]]\n",
            "\n",
            "This film was probably inspired by Godard's Masculin, féminin and I urge you to see that film instead.<br /><br />The film has two strong elements and those are, (1) the realistic acting (2) the impressive, undeservedly good, [[photo]]. Apart from that, what strikes me most is the endless stream of [[silliness]]. Lena Nyman has to be most annoying actress in the [[world]]. She acts so stupid and with all the nudity in this film,...it's unattractive. Comparing to Godard's film, intellectuality has been replaced with stupidity. Without going too far on this subject, I would say that follows from the difference in ideals between the French and the Swedish society.<br /><br />A movie of its time, and place. 2/10.\n",
            "\n",
            "This film was probably inspired by Godard's Masculin, féminin and I urge you to see that film instead.<br /><br />The film has two strong elements and those are, (1) the realistic acting (2) the impressive, undeservedly good, [[picture]]. Apart from that, what strikes me most is the endless stream of [[playfulness]]. Lena Nyman has to be most annoying actress in the [[monde]]. She acts so stupid and with all the nudity in this film,...it's unattractive. Comparing to Godard's film, intellectuality has been replaced with stupidity. Without going too far on this subject, I would say that follows from the difference in ideals between the French and the Swedish society.<br /><br />A movie of its time, and place. 2/10.\n",
            "\n",
            "\n"
          ]
        },
        {
          "name": "stderr",
          "output_type": "stream",
          "text": [
            "[Succeeded / Failed / Skipped / Total] 5 / 0 / 0 / 5: 100%|██████████| 5/5 [08:12<00:00, 98.54s/it]"
          ]
        },
        {
          "name": "stdout",
          "output_type": "stream",
          "text": [
            "--------------------------------------------- Result 5 ---------------------------------------------\n",
            "[[Negative (100%)]] --> [[Positive (50%)]]\n",
            "\n",
            "Oh, brother...after hearing about this [[ridiculous]] [[film]] for umpteen years all I can [[think]] of is that old [[Peggy]] [[Lee]] [[song]]..<br /><br />\"Is that all there is??\" ...[[I]] was just an early teen when this [[smoked]] [[fish]] [[hit]] the U.S. [[I]] was too [[young]] to get in the [[theater]] (although [[I]] did manage to sneak into \"Goodbye [[Columbus]]\"). Then a [[screening]] at a [[local]] [[film]] [[museum]] [[beckoned]] - Finally I could see this film, [[except]] now [[I]] was as [[old]] as my parents were when they schlepped to see it!!<br /><br />The [[ONLY]] [[reason]] this film was not condemned to the [[anonymous]] sands of [[time]] was because of the obscenity case sparked by its U.S. release. MILLIONS of people [[flocked]] to this stinker, thinking they were going to see a [[sex]] film...[[Instead]], they got lots of closeups of [[gnarly]], [[repulsive]] Swedes, on-street interviews in bland [[shopping]] malls, asinie political pretension...and feeble who-cares [[simulated]] sex scenes with [[saggy]], [[pale]] [[actors]].<br /><br />[[Cultural]] [[icon]], [[holy]] grail, [[historic]] artifact..whatever this [[thing]] was, shred it, burn it, then stuff the ashes in a [[lead]] box!<br /><br />Elite esthetes still scrape to [[find]] [[value]] in its [[boring]] [[pseudo]] revolutionary [[political]] spewings..But if it weren't for the [[censorship]] [[scandal]], it would have been [[ignored]], then forgotten.<br /><br />[[Instead]], the \"I Am Blank, Blank\" rhythymed [[title]] was repeated [[endlessly]] for years as a titilation for [[porno]] films ([[I]] am [[Curious]], Lavender - for [[gay]] [[films]], [[I]] Am [[Curious]], [[Black]] - for blaxploitation films, etc..) and every [[ten]] years or so the [[thing]] [[rises]] from the dead, to be viewed by a new generation of suckers who want to see that \"naughty [[sex]] [[film]]\" that \"revolutionized the [[film]] [[industry]]\"...<br /><br />[[Yeesh]], [[avoid]] like the plague..Or if you MUST see it - rent the [[video]] and fast [[forward]] to the \"dirty\" [[parts]], just to get it over with.<br /><br />\n",
            "\n",
            "Oh, brother...after hearing about this [[absurd]] [[theater]] for umpteen years all I can [[imagine]] of is that old [[Dorothy]] [[Reads]] [[chant]]..<br /><br />\"Is that all there is??\" ...[[suis]] was just an early teen when this [[smoky]] [[catch]] [[shook]] the U.S. [[me]] was too [[kids]] to get in the [[cinema]] (although [[li]] did manage to sneak into \"Goodbye [[Bogota]]\"). Then a [[verification]] at a [[localized]] [[teatro]] [[musée]] [[leaned]] - Finally I could see this film, [[albeit]] now [[ich]] was as [[archaic]] as my parents were when they schlepped to see it!!<br /><br />The [[LEN]] [[why]] this film was not condemned to the [[unnamed]] sands of [[temps]] was because of the obscenity case sparked by its U.S. release. MILLIONS of people [[crowded]] to this stinker, thinking they were going to see a [[obscene]] film...[[However]], they got lots of closeups of [[craggy]], [[odious]] Swedes, on-street interviews in bland [[buys]] malls, asinie political pretension...and feeble who-cares [[mock]] sex scenes with [[gooey]], [[bali]] [[players]].<br /><br />[[Culturally]] [[token]], [[blessed]] grail, [[tale]] artifact..whatever this [[something]] was, shred it, burn it, then stuff the ashes in a [[advance]] box!<br /><br />Elite esthetes still scrape to [[detected]] [[valuable]] in its [[bore]] [[fraudulent]] revolutionary [[policies]] spewings..But if it weren't for the [[inspection]] [[disgrace]], it would have been [[omitted]], then forgotten.<br /><br />[[Though]], the \"I Am Blank, Blank\" rhythymed [[headline]] was repeated [[eternally]] for years as a titilation for [[porn]] films ([[it]] am [[Strange]], Lavender - for [[queer]] [[teatro]], [[it]] Am [[Strange]], [[Montenegro]] - for blaxploitation films, etc..) and every [[decades]] years or so the [[ding]] [[rose]] from the dead, to be viewed by a new generation of suckers who want to see that \"naughty [[obscene]] [[movie]]\" that \"revolutionized the [[kino]] [[yip]]\"...<br /><br />[[Hoo]], [[evade]] like the plague..Or if you MUST see it - rent the [[tape]] and fast [[sends]] to the \"dirty\" [[sections]], just to get it over with.<br /><br />\n",
            "\n",
            "\n",
            "\n",
            "+-------------------------------+--------+\n",
            "| Attack Results                |        |\n",
            "+-------------------------------+--------+\n",
            "| Number of successful attacks: | 5      |\n",
            "| Number of failed attacks:     | 0      |\n",
            "| Number of skipped attacks:    | 0      |\n",
            "| Original accuracy:            | 100.0% |\n",
            "| Accuracy under attack:        | 0.0%   |\n",
            "| Attack success rate:          | 100.0% |\n",
            "| Average perturbed word %:     | 8.16%  |\n",
            "| Average num. words per input: | 208.8  |\n",
            "| Avg num queries:              | 488.4  |\n",
            "+-------------------------------+--------+\n"
          ]
        },
        {
          "name": "stderr",
          "output_type": "stream",
          "text": [
            "\n"
          ]
        }
      ],
      "source": [
        "from textattack import Attacker, Attack, AttackArgs, datasets, models, transformations, constraints, goal_functions, search_methods\n",
        "from textattack.models.wrappers import HuggingFaceModelWrapper\n",
        "from transformers import AutoModelForSequenceClassification, AutoTokenizer\n",
        "\n",
        "# Load pre-trained model and tokenizer\n",
        "model = AutoModelForSequenceClassification.from_pretrained(\"textattack/bert-base-uncased-imdb\")\n",
        "tokenizer = AutoTokenizer.from_pretrained(\"textattack/bert-base-uncased-imdb\")\n",
        "\n",
        "# Wrap the model using TextAttack's HuggingFaceModelWrapper\n",
        "model_wrapper = HuggingFaceModelWrapper(model, tokenizer)\n",
        "\n",
        "# Define your attack here (customize as per your requirement)\n",
        "attack = Attack(\n",
        "    goal_function=goal_functions.UntargetedClassification(model_wrapper),\n",
        "    constraints=[constraints.pre_transformation.StopwordModification()],\n",
        "    transformation=transformations.WordSwapEmbedding(),\n",
        "    search_method=search_methods.GreedyWordSwapWIR()\n",
        ")\n",
        "\n",
        "# Load dataset using HuggingFace datasets library and wrap it with TextAttack's HuggingFaceDataset\n",
        "train_dataset_attack = datasets.HuggingFaceDataset(\"imdb\", split=\"train\")\n",
        "\n",
        "# Initialize the attacker with attack arguments\n",
        "attack_args = AttackArgs(num_examples=5)  # Customize the number of examples\n",
        "attacker = Attacker(attack, train_dataset_attack, attack_args)\n",
        "\n",
        "# Perform the attack on the dataset\n",
        "adversarial_examples = attacker.attack_dataset()\n"
      ]
    },
    {
      "cell_type": "code",
      "execution_count": 24,
      "metadata": {},
      "outputs": [
        {
          "data": {
            "application/vnd.jupyter.widget-view+json": {
              "model_id": "e08f3b6a6e524095bb7eef2ae17be9f8",
              "version_major": 2,
              "version_minor": 0
            },
            "text/plain": [
              "  0%|          | 0/603 [00:00<?, ?it/s]"
            ]
          },
          "metadata": {},
          "output_type": "display_data"
        },
        {
          "name": "stderr",
          "output_type": "stream",
          "text": [
            "/var/folders/p1/5swwv58x6zx6zvpgsynmmnjm0000gn/T/ipykernel_77068/2609057923.py:10: UserWarning: To copy construct from a tensor, it is recommended to use sourceTensor.clone().detach() or sourceTensor.clone().detach().requires_grad_(True), rather than torch.tensor(sourceTensor).\n",
            "  item = {key: torch.tensor(val[idx]) for key, val in self.encodings.items()}\n",
            "/var/folders/p1/5swwv58x6zx6zvpgsynmmnjm0000gn/T/ipykernel_77068/2609057923.py:11: UserWarning: To copy construct from a tensor, it is recommended to use sourceTensor.clone().detach() or sourceTensor.clone().detach().requires_grad_(True), rather than torch.tensor(sourceTensor).\n",
            "  item['labels'] = torch.tensor(self.labels[idx])\n"
          ]
        },
        {
          "name": "stdout",
          "output_type": "stream",
          "text": [
            "{'loss': 0.2314, 'grad_norm': 14.510295867919922, 'learning_rate': 1.0000000000000002e-06, 'epoch': 0.05}\n",
            "{'loss': 0.1547, 'grad_norm': 4.589311599731445, 'learning_rate': 2.0000000000000003e-06, 'epoch': 0.1}\n",
            "{'loss': 0.4386, 'grad_norm': 179.24148559570312, 'learning_rate': 3e-06, 'epoch': 0.15}\n",
            "{'loss': 0.2067, 'grad_norm': 224.6477813720703, 'learning_rate': 4.000000000000001e-06, 'epoch': 0.2}\n",
            "{'loss': 0.303, 'grad_norm': 0.24597696959972382, 'learning_rate': 5e-06, 'epoch': 0.25}\n",
            "{'loss': 0.1911, 'grad_norm': 95.0750732421875, 'learning_rate': 6e-06, 'epoch': 0.3}\n",
            "{'loss': 0.0034, 'grad_norm': 0.15990053117275238, 'learning_rate': 7.000000000000001e-06, 'epoch': 0.35}\n",
            "{'loss': 0.0085, 'grad_norm': 0.5522549748420715, 'learning_rate': 8.000000000000001e-06, 'epoch': 0.4}\n",
            "{'loss': 0.2448, 'grad_norm': 112.57675170898438, 'learning_rate': 9e-06, 'epoch': 0.45}\n",
            "{'loss': 0.0241, 'grad_norm': 0.00696523254737258, 'learning_rate': 1e-05, 'epoch': 0.5}\n",
            "{'loss': 0.4238, 'grad_norm': 0.02443329617381096, 'learning_rate': 1.1000000000000001e-05, 'epoch': 0.55}\n",
            "{'loss': 0.1817, 'grad_norm': 0.019518136978149414, 'learning_rate': 1.2e-05, 'epoch': 0.6}\n",
            "{'loss': 0.05, 'grad_norm': 0.007542934734374285, 'learning_rate': 1.3000000000000001e-05, 'epoch': 0.65}\n",
            "{'loss': 0.4626, 'grad_norm': 0.012379505671560764, 'learning_rate': 1.4000000000000001e-05, 'epoch': 0.7}\n",
            "{'loss': 0.4399, 'grad_norm': 0.0171781238168478, 'learning_rate': 1.5e-05, 'epoch': 0.75}\n",
            "{'loss': 0.1639, 'grad_norm': 0.1153942421078682, 'learning_rate': 1.6000000000000003e-05, 'epoch': 0.8}\n",
            "{'loss': 0.0052, 'grad_norm': 1.5244594812393188, 'learning_rate': 1.7000000000000003e-05, 'epoch': 0.85}\n",
            "{'loss': 0.5001, 'grad_norm': 90.05413055419922, 'learning_rate': 1.8e-05, 'epoch': 0.9}\n",
            "{'loss': 0.0053, 'grad_norm': 0.0861050933599472, 'learning_rate': 1.9e-05, 'epoch': 0.95}\n",
            "{'loss': 0.2741, 'grad_norm': 171.8895263671875, 'learning_rate': 2e-05, 'epoch': 1.0}\n",
            "{'loss': 0.0222, 'grad_norm': 0.007150305435061455, 'learning_rate': 2.1e-05, 'epoch': 1.04}\n",
            "{'loss': 0.118, 'grad_norm': 0.019427020102739334, 'learning_rate': 2.2000000000000003e-05, 'epoch': 1.09}\n",
            "{'loss': 0.0016, 'grad_norm': 0.0050854249857366085, 'learning_rate': 2.3000000000000003e-05, 'epoch': 1.14}\n",
            "{'loss': 0.1747, 'grad_norm': 0.004671155009418726, 'learning_rate': 2.4e-05, 'epoch': 1.19}\n",
            "{'loss': 0.0073, 'grad_norm': 0.0034433361142873764, 'learning_rate': 2.5e-05, 'epoch': 1.24}\n",
            "{'loss': 0.1807, 'grad_norm': 0.005620029289275408, 'learning_rate': 2.6000000000000002e-05, 'epoch': 1.29}\n",
            "{'loss': 0.1396, 'grad_norm': 0.01997973397374153, 'learning_rate': 2.7000000000000002e-05, 'epoch': 1.34}\n",
            "{'loss': 0.1584, 'grad_norm': 0.004631076939404011, 'learning_rate': 2.8000000000000003e-05, 'epoch': 1.39}\n",
            "{'loss': 0.0412, 'grad_norm': 0.003870856948196888, 'learning_rate': 2.9e-05, 'epoch': 1.44}\n",
            "{'loss': 0.0018, 'grad_norm': 0.0055870008654892445, 'learning_rate': 3e-05, 'epoch': 1.49}\n",
            "{'loss': 0.3434, 'grad_norm': 0.02256617695093155, 'learning_rate': 3.1e-05, 'epoch': 1.54}\n",
            "{'loss': 0.0001, 'grad_norm': 0.0018978314474225044, 'learning_rate': 3.2000000000000005e-05, 'epoch': 1.59}\n",
            "{'loss': 0.1896, 'grad_norm': 0.09387390315532684, 'learning_rate': 3.3e-05, 'epoch': 1.64}\n",
            "{'loss': 0.4159, 'grad_norm': 95.24468231201172, 'learning_rate': 3.4000000000000007e-05, 'epoch': 1.69}\n",
            "{'loss': 0.0005, 'grad_norm': 0.0029133660718798637, 'learning_rate': 3.5e-05, 'epoch': 1.74}\n",
            "{'loss': 0.0005, 'grad_norm': 0.017600513994693756, 'learning_rate': 3.6e-05, 'epoch': 1.79}\n",
            "{'loss': 0.716, 'grad_norm': 0.1608107089996338, 'learning_rate': 3.7e-05, 'epoch': 1.84}\n",
            "{'loss': 0.1788, 'grad_norm': 0.0747058242559433, 'learning_rate': 3.8e-05, 'epoch': 1.89}\n",
            "{'loss': 0.6134, 'grad_norm': 0.16628310084342957, 'learning_rate': 3.9000000000000006e-05, 'epoch': 1.94}\n",
            "{'loss': 0.2208, 'grad_norm': 4.675462245941162, 'learning_rate': 4e-05, 'epoch': 1.99}\n",
            "{'loss': 0.3228, 'grad_norm': 126.40093231201172, 'learning_rate': 4.1e-05, 'epoch': 2.04}\n",
            "{'loss': 0.1966, 'grad_norm': 0.05116644129157066, 'learning_rate': 4.2e-05, 'epoch': 2.09}\n",
            "{'loss': 0.1639, 'grad_norm': 107.23251342773438, 'learning_rate': 4.3e-05, 'epoch': 2.14}\n",
            "{'loss': 0.139, 'grad_norm': 0.005910555366426706, 'learning_rate': 4.4000000000000006e-05, 'epoch': 2.19}\n",
            "{'loss': 0.2224, 'grad_norm': 0.21692155301570892, 'learning_rate': 4.5e-05, 'epoch': 2.24}\n",
            "{'loss': 0.6216, 'grad_norm': 0.01679365523159504, 'learning_rate': 4.600000000000001e-05, 'epoch': 2.29}\n",
            "{'loss': 0.1018, 'grad_norm': 0.08681287616491318, 'learning_rate': 4.7e-05, 'epoch': 2.34}\n",
            "{'loss': 0.0751, 'grad_norm': 0.014527535066008568, 'learning_rate': 4.8e-05, 'epoch': 2.39}\n",
            "{'loss': 0.2666, 'grad_norm': 30.53040885925293, 'learning_rate': 4.9e-05, 'epoch': 2.44}\n",
            "{'loss': 0.3653, 'grad_norm': 39.73835372924805, 'learning_rate': 5e-05, 'epoch': 2.49}\n"
          ]
        },
        {
          "name": "stderr",
          "output_type": "stream",
          "text": [
            "/var/folders/p1/5swwv58x6zx6zvpgsynmmnjm0000gn/T/ipykernel_77068/2609057923.py:10: UserWarning: To copy construct from a tensor, it is recommended to use sourceTensor.clone().detach() or sourceTensor.clone().detach().requires_grad_(True), rather than torch.tensor(sourceTensor).\n",
            "  item = {key: torch.tensor(val[idx]) for key, val in self.encodings.items()}\n",
            "/var/folders/p1/5swwv58x6zx6zvpgsynmmnjm0000gn/T/ipykernel_77068/2609057923.py:11: UserWarning: To copy construct from a tensor, it is recommended to use sourceTensor.clone().detach() or sourceTensor.clone().detach().requires_grad_(True), rather than torch.tensor(sourceTensor).\n",
            "  item['labels'] = torch.tensor(self.labels[idx])\n"
          ]
        },
        {
          "name": "stdout",
          "output_type": "stream",
          "text": [
            "{'loss': 0.3268, 'grad_norm': 0.09010977298021317, 'learning_rate': 4.514563106796117e-05, 'epoch': 2.54}\n",
            "{'loss': 0.2417, 'grad_norm': 0.46364179253578186, 'learning_rate': 4.029126213592233e-05, 'epoch': 2.59}\n",
            "{'loss': 0.0587, 'grad_norm': 1.9972138404846191, 'learning_rate': 3.54368932038835e-05, 'epoch': 2.64}\n",
            "{'loss': 0.2708, 'grad_norm': 246.81240844726562, 'learning_rate': 3.058252427184466e-05, 'epoch': 2.69}\n",
            "{'loss': 0.131, 'grad_norm': 0.004374051000922918, 'learning_rate': 2.5728155339805826e-05, 'epoch': 2.74}\n",
            "{'loss': 0.0218, 'grad_norm': 0.7514193654060364, 'learning_rate': 2.0873786407766992e-05, 'epoch': 2.79}\n",
            "{'loss': 0.009, 'grad_norm': 24.91100311279297, 'learning_rate': 1.6019417475728158e-05, 'epoch': 2.84}\n",
            "{'loss': 0.0001, 'grad_norm': 0.021272089332342148, 'learning_rate': 1.116504854368932e-05, 'epoch': 2.89}\n",
            "{'loss': 0.1966, 'grad_norm': 0.0030857149977236986, 'learning_rate': 6.310679611650486e-06, 'epoch': 2.94}\n",
            "{'loss': 0.0002, 'grad_norm': 0.004338894505053759, 'learning_rate': 1.4563106796116506e-06, 'epoch': 2.99}\n",
            "{'train_runtime': 3093.8126, 'train_samples_per_second': 0.78, 'train_steps_per_second': 0.195, 'train_loss': 0.1918610695807053, 'epoch': 3.0}\n"
          ]
        }
      ],
      "source": [
        "# Step 8.1: Retrieve Adversarial Examples and Convert to Suitable Format\n",
        "adversarial_reviews = [ex.perturbed_text() for ex in adversarial_examples]\n",
        "adversarial_labels = [ex.original_result.output for ex in adversarial_examples]\n",
        "\n",
        "# Combine original and adversarial examples\n",
        "combined_reviews = train_reviews + adversarial_reviews\n",
        "combined_labels = train_labels + adversarial_labels\n",
        "\n",
        "# Step 8.2: Create Combined Dataset\n",
        "combined_tokens = tokenizer(combined_reviews, padding='max_length', truncation=True, return_tensors=\"pt\")\n",
        "combined_labels = torch.tensor(combined_labels)\n",
        "\n",
        "combined_dataset = IMDBDataset(combined_tokens, combined_labels)\n",
        "\n",
        "# Step 8.3: Retrain the Model\n",
        "# Define new training arguments\n",
        "combined_training_args = TrainingArguments(\n",
        "    output_dir='./combined_results',\n",
        "    num_train_epochs=3,\n",
        "    per_device_train_batch_size=4,\n",
        "    per_device_eval_batch_size=4,\n",
        "    warmup_steps=500,\n",
        "    weight_decay=0.01,\n",
        "    logging_dir='./combined_logs',\n",
        "    logging_steps=10,\n",
        ")\n",
        "\n",
        "# Initialize the Trainer with the combined dataset\n",
        "combined_trainer = Trainer(\n",
        "    model=model,\n",
        "    args=combined_training_args,\n",
        "    train_dataset=combined_dataset,\n",
        "    eval_dataset=test_dataset,\n",
        ")\n",
        "\n",
        "# Retrain the model\n",
        "combined_trainer.train()\n",
        "\n",
        "# Save the retrained model\n",
        "model.save_pretrained('./retrained_model')"
      ]
    },
    {
      "cell_type": "code",
      "execution_count": 26,
      "metadata": {},
      "outputs": [],
      "source": [
        "from textattack.datasets import Dataset\n",
        "\n",
        "# Create a custom dataset for TextAttack\n",
        "class CustomDataset(Dataset):\n",
        "    def __init__(self, reviews, labels):\n",
        "        self.reviews = reviews\n",
        "        self.labels = labels\n",
        "\n",
        "    def __len__(self):\n",
        "        return len(self.labels)\n",
        "\n",
        "    def __getitem__(self, idx):\n",
        "        return self.reviews[idx], self.labels[idx]\n",
        "\n",
        "# Prepare the dataset for TextAttack\n",
        "test_reviews = test_data['review'].tolist()\n",
        "test_labels = test_data['sentiment'].apply(lambda x: 1 if x == 'positive' else 0).tolist()\n",
        "\n",
        "test_dataset_attack = CustomDataset(test_reviews, test_labels)"
      ]
    },
    {
      "cell_type": "code",
      "execution_count": 28,
      "metadata": {},
      "outputs": [
        {
          "name": "stderr",
          "output_type": "stream",
          "text": [
            "/var/folders/p1/5swwv58x6zx6zvpgsynmmnjm0000gn/T/ipykernel_77068/2310617606.py:5: UserWarning: To copy construct from a tensor, it is recommended to use sourceTensor.clone().detach() or sourceTensor.clone().detach().requires_grad_(True), rather than torch.tensor(sourceTensor).\n",
            "  test_labels = torch.tensor(test_labels)\n",
            "/var/folders/p1/5swwv58x6zx6zvpgsynmmnjm0000gn/T/ipykernel_77068/2609057923.py:10: UserWarning: To copy construct from a tensor, it is recommended to use sourceTensor.clone().detach() or sourceTensor.clone().detach().requires_grad_(True), rather than torch.tensor(sourceTensor).\n",
            "  item = {key: torch.tensor(val[idx]) for key, val in self.encodings.items()}\n",
            "/var/folders/p1/5swwv58x6zx6zvpgsynmmnjm0000gn/T/ipykernel_77068/2609057923.py:11: UserWarning: To copy construct from a tensor, it is recommended to use sourceTensor.clone().detach() or sourceTensor.clone().detach().requires_grad_(True), rather than torch.tensor(sourceTensor).\n",
            "  item['labels'] = torch.tensor(self.labels[idx])\n"
          ]
        },
        {
          "name": "stdout",
          "output_type": "stream",
          "text": [
            "Accuracy on original test set: 0.965\n",
            "F1 score on original test set: 0.9637305699481865\n",
            "Attack(\n",
            "  (search_method): GreedyWordSwapWIR(\n",
            "    (wir_method):  unk\n",
            "  )\n",
            "  (goal_function):  UntargetedClassification\n",
            "  (transformation):  WordSwapEmbedding(\n",
            "    (max_candidates):  15\n",
            "    (embedding):  WordEmbedding\n",
            "  )\n",
            "  (constraints): \n",
            "    (0): StopwordModification\n",
            "  (is_black_box):  True\n",
            ") \n",
            "\n"
          ]
        },
        {
          "name": "stderr",
          "output_type": "stream",
          "text": [
            "[Succeeded / Failed / Skipped / Total] 1 / 0 / 0 / 1:  20%|██        | 1/5 [04:27<17:49, 267.33s/it]"
          ]
        },
        {
          "name": "stdout",
          "output_type": "stream",
          "text": [
            "--------------------------------------------- Result 6 ---------------------------------------------\n",
            "[[Negative (100%)]] --> [[Positive (69%)]]\n",
            "\n",
            "[[I]] rented I AM CURIOUS-YELLOW from my [[video]] store because of all the controversy that surrounded it when it was first released in 1967. I also heard that at first it was seized by U.S. customs if it ever tried to enter this [[country]], therefore being a fan of [[films]] considered \"controversial\" I [[really]] had to see this for myself.<br /><br />The [[plot]] is centered around a young [[Swedish]] drama student named Lena who wants to learn everything she can about life. In [[particular]] she wants to focus her attentions to making some sort of documentary on what the average Swede thought about certain political issues such as the Vietnam War and race issues in the United States. In between asking politicians and ordinary denizens of Stockholm about their opinions on politics, she has sex with her drama teacher, classmates, and married men.<br /><br />[[What]] [[kills]] me about I AM CURIOUS-YELLOW is that 40 years ago, this was [[considered]] pornographic. [[Really]], the sex and nudity scenes are few and far between, even then it's not shot like some cheaply made porno. While my countrymen mind find it shocking, in reality sex and nudity are a major staple in Swedish cinema. Even Ingmar Bergman, arguably their answer to good old boy John Ford, had sex scenes in his films.<br /><br />[[I]] do commend the filmmakers for the fact that any sex shown in the film is shown for artistic purposes rather than just to shock [[people]] and make money to be shown in pornographic theaters in America. I AM CURIOUS-YELLOW is a [[good]] film for [[anyone]] [[wanting]] to study the meat and potatoes (no pun intended) of Swedish cinema. [[But]] [[really]], this film doesn't have much of a [[plot]].\n",
            "\n",
            "[[li]] rented I AM CURIOUS-YELLOW from my [[soundtrack]] store because of all the controversy that surrounded it when it was first released in 1967. I also heard that at first it was seized by U.S. customs if it ever tried to enter this [[kraj]], therefore being a fan of [[cinematography]] considered \"controversial\" I [[genuinely]] had to see this for myself.<br /><br />The [[chart]] is centered around a young [[Danes]] drama student named Lena who wants to learn everything she can about life. In [[notably]] she wants to focus her attentions to making some sort of documentary on what the average Swede thought about certain political issues such as the Vietnam War and race issues in the United States. In between asking politicians and ordinary denizens of Stockholm about their opinions on politics, she has sex with her drama teacher, classmates, and married men.<br /><br />[[Whereof]] [[mata]] me about I AM CURIOUS-YELLOW is that 40 years ago, this was [[scrutinized]] pornographic. [[Authentic]], the sex and nudity scenes are few and far between, even then it's not shot like some cheaply made porno. While my countrymen mind find it shocking, in reality sex and nudity are a major staple in Swedish cinema. Even Ingmar Bergman, arguably their answer to good old boy John Ford, had sex scenes in his films.<br /><br />[[je]] do commend the filmmakers for the fact that any sex shown in the film is shown for artistic purposes rather than just to shock [[individuals]] and make money to be shown in pornographic theaters in America. I AM CURIOUS-YELLOW is a [[best]] film for [[whosoever]] [[desirous]] to study the meat and potatoes (no pun intended) of Swedish cinema. [[However]] [[candidly]], this film doesn't have much of a [[lots]].\n",
            "\n",
            "\n"
          ]
        },
        {
          "name": "stderr",
          "output_type": "stream",
          "text": [
            "[Succeeded / Failed / Skipped / Total] 2 / 0 / 0 / 2:  40%|████      | 2/5 [15:39<23:29, 469.84s/it]"
          ]
        },
        {
          "name": "stdout",
          "output_type": "stream",
          "text": [
            "--------------------------------------------- Result 7 ---------------------------------------------\n",
            "[[Negative (100%)]] --> [[Positive (75%)]]\n",
            "\n",
            "\"I Am Curious: Yellow\" is a risible and [[pretentious]] [[steaming]] [[pile]]. [[It]] doesn't matter what one's political [[views]] are because this [[film]] can hardly be taken [[seriously]] on any [[level]]. As for the claim that frontal male [[nudity]] is an automatic NC-17, that isn't true. I've seen R-rated [[films]] with [[male]] [[nudity]]. [[Granted]], they only offer some fleeting views, but where are the R-rated films with gaping vulvas and [[flapping]] [[labia]]? Nowhere, because they don't exist. [[The]] same [[goes]] for those [[crappy]] cable shows: schlongs swinging in the breeze but not a clitoris in sight. And those pretentious [[indie]] movies [[like]] The Brown [[Bunny]], in which we're [[treated]] to the [[site]] of [[Vincent]] Gallo's throbbing johnson, but not a [[trace]] of pink visible on Chloe Sevigny. Before [[crying]] (or [[implying]]) \"double-standard\" in [[matters]] of [[nudity]], the [[mentally]] [[obtuse]] should take into [[account]] [[one]] [[unavoidably]] obvious [[anatomical]] [[difference]] between [[men]] and [[women]]: there are no [[genitals]] on [[display]] when [[actresses]] [[appears]] [[nude]], and the same cannot be said for a man. In [[fact]], you [[generally]] won't [[see]] [[female]] [[genitals]] in an American film in [[anything]] short of [[porn]] or [[explicit]] erotica. [[This]] [[alleged]] double-standard is [[less]] a double standard than an admittedly depressing [[ability]] to come to terms [[culturally]] with the [[insides]] of women's [[bodies]].\n",
            "\n",
            "\"I Am Curious: Yellow\" is a risible and [[snobby]] [[steamed]] [[cell]]. [[That]] doesn't matter what one's political [[opinions]] are because this [[theater]] can hardly be taken [[bitterly]] on any [[rank]]. As for the claim that frontal male [[exhibitionism]] is an automatic NC-17, that isn't true. I've seen R-rated [[cinematography]] with [[virile]] [[exhibitionism]]. [[Conceded]], they only offer some fleeting views, but where are the R-rated films with gaping vulvas and [[swooping]] [[vaginas]]? Nowhere, because they don't exist. [[To]] same [[runs]] for those [[horseshit]] cable shows: schlongs swinging in the breeze but not a clitoris in sight. And those pretentious [[lndia]] movies [[enjoy]] The Brown [[Jackrabbit]], in which we're [[addressing]] to the [[placements]] of [[Nguyen]] Gallo's throbbing johnson, but not a [[scribe]] of pink visible on Chloe Sevigny. Before [[mourn]] (or [[concerning]]) \"double-standard\" in [[themes]] of [[exhibitionism]], the [[spirituality]] [[simpleminded]] should take into [[accounts]] [[each]] [[inescapable]] obvious [[pathology]] [[deviation]] between [[people]] and [[mujer]]: there are no [[foreskin]] on [[exposition]] when [[artist]] [[seems]] [[bare]], and the same cannot be said for a man. In [[effected]], you [[ordinarily]] won't [[admire]] [[femmes]] [[vulva]] in an American film in [[everything]] short of [[erotic]] or [[unequivocally]] erotica. [[Say]] [[asserted]] double-standard is [[shorter]] a double standard than an admittedly depressing [[dexterity]] to come to terms [[multicultural]] with the [[indoors]] of women's [[body]].\n",
            "\n",
            "\n"
          ]
        },
        {
          "name": "stderr",
          "output_type": "stream",
          "text": [
            "[Succeeded / Failed / Skipped / Total] 3 / 0 / 0 / 3:  60%|██████    | 3/5 [18:51<12:34, 377.04s/it]"
          ]
        },
        {
          "name": "stdout",
          "output_type": "stream",
          "text": [
            "--------------------------------------------- Result 8 ---------------------------------------------\n",
            "[[Negative (100%)]] --> [[Positive (98%)]]\n",
            "\n",
            "If only to [[avoid]] making this type of film in the [[future]]. This [[film]] is [[interesting]] as an [[experiment]] but tells no [[cogent]] [[story]].<br /><br />[[One]] might feel virtuous for sitting thru it because it touches on so many [[IMPORTANT]] issues but it does so without any discernable motive. The [[viewer]] comes away with no new [[perspectives]] (unless [[one]] comes up with one while one's mind wanders, as it will invariably do during this [[pointless]] [[film]]).<br /><br />[[One]] might better spend one's [[time]] staring out a window at a tree growing.<br /><br />\n",
            "\n",
            "If only to [[evita]] making this type of film in the [[forthcoming]]. This [[teatro]] is [[curious]] as an [[ordeals]] but tells no [[incontrovertible]] [[fables]].<br /><br />[[Anyone]] might feel virtuous for sitting thru it because it touches on so many [[SIZEABLE]] issues but it does so without any discernable motive. The [[onlookers]] comes away with no new [[opinion]] (unless [[solo]] comes up with one while one's mind wanders, as it will invariably do during this [[senseless]] [[kino]]).<br /><br />[[Individual]] might better spend one's [[periods]] staring out a window at a tree growing.<br /><br />\n",
            "\n",
            "\n"
          ]
        },
        {
          "name": "stderr",
          "output_type": "stream",
          "text": [
            "[Succeeded / Failed / Skipped / Total] 4 / 0 / 0 / 4:  80%|████████  | 4/5 [23:33<05:53, 353.40s/it]"
          ]
        },
        {
          "name": "stdout",
          "output_type": "stream",
          "text": [
            "--------------------------------------------- Result 9 ---------------------------------------------\n",
            "[[Negative (100%)]] --> [[Positive (87%)]]\n",
            "\n",
            "[[This]] [[film]] was probably inspired by Godard's Masculin, féminin and I urge you to see that film instead.<br /><br />The [[film]] has [[two]] strong elements and those are, (1) the realistic acting (2) the impressive, undeservedly good, [[photo]]. Apart from that, what strikes me most is the endless stream of silliness. Lena [[Nyman]] has to be most [[annoying]] [[actress]] in the [[world]]. [[She]] acts so stupid and with all the [[nudity]] in this film,...it's [[unattractive]]. [[Comparing]] to Godard's film, intellectuality has been replaced with stupidity. Without going too far on this subject, I would say that follows from the difference in ideals between the French and the Swedish society.<br /><br />A movie of its time, and place. 2/10.\n",
            "\n",
            "[[Say]] [[teatro]] was probably inspired by Godard's Masculin, féminin and I urge you to see that film instead.<br /><br />The [[filmmaking]] has [[both]] strong elements and those are, (1) the realistic acting (2) the impressive, undeservedly good, [[imagery]]. Apart from that, what strikes me most is the endless stream of silliness. Lena [[Ryuichi]] has to be most [[galling]] [[virtuoso]] in the [[monde]]. [[Elle]] acts so stupid and with all the [[incest]] in this film,...it's [[distasteful]]. [[Comparisons]] to Godard's film, intellectuality has been replaced with stupidity. Without going too far on this subject, I would say that follows from the difference in ideals between the French and the Swedish society.<br /><br />A movie of its time, and place. 2/10.\n",
            "\n",
            "\n"
          ]
        },
        {
          "name": "stderr",
          "output_type": "stream",
          "text": [
            "[Succeeded / Failed / Skipped / Total] 5 / 0 / 0 / 5: 100%|██████████| 5/5 [49:24<00:00, 592.88s/it]"
          ]
        },
        {
          "name": "stdout",
          "output_type": "stream",
          "text": [
            "--------------------------------------------- Result 10 ---------------------------------------------\n",
            "[[Negative (100%)]] --> [[Positive (51%)]]\n",
            "\n",
            "Oh, brother...after hearing about this [[ridiculous]] [[film]] for umpteen years all I can think of is that [[old]] [[Peggy]] Lee [[song]]..<br /><br />\"Is that all there is??\" ...[[I]] was just an early teen when this smoked [[fish]] hit the U.S. [[I]] was too young to get in the theater ([[although]] [[I]] did manage to sneak into \"Goodbye [[Columbus]]\"). [[Then]] a screening at a [[local]] [[film]] [[museum]] [[beckoned]] - Finally I could see this [[film]], [[except]] now [[I]] was as old as my parents were when they schlepped to see it!!<br /><br />The ONLY reason this film was not condemned to the anonymous sands of [[time]] was because of the [[obscenity]] case sparked by its U.S. release. MILLIONS of [[people]] [[flocked]] to this stinker, thinking they were going to see a [[sex]] film...Instead, they got lots of closeups of [[gnarly]], repulsive [[Swedes]], on-street [[interviews]] in bland shopping malls, asinie political pretension...and feeble who-cares [[simulated]] sex scenes with [[saggy]], [[pale]] [[actors]].<br /><br />Cultural icon, holy grail, historic artifact..[[whatever]] this thing was, shred it, burn it, then stuff the ashes in a lead box!<br /><br />Elite esthetes still scrape to [[find]] [[value]] in its [[boring]] [[pseudo]] revolutionary political spewings..But if it weren't for the censorship [[scandal]], it would have been ignored, then forgotten.<br /><br />[[Instead]], the \"I Am Blank, Blank\" rhythymed title was repeated [[endlessly]] for years as a titilation for [[porno]] films (I am Curious, Lavender - for [[gay]] films, I Am Curious, Black - for blaxploitation films, etc..) and [[every]] ten [[years]] or so the [[thing]] rises from the [[dead]], to be viewed by a new generation of [[suckers]] who want to see that \"[[naughty]] [[sex]] [[film]]\" that \"revolutionized the [[film]] [[industry]]\"...<br /><br />[[Yeesh]], avoid like the plague..Or if you MUST see it - rent the video and fast forward to the \"dirty\" [[parts]], just to get it over with.<br /><br />\n",
            "\n",
            "Oh, brother...after hearing about this [[nonsensical]] [[cinematography]] for umpteen years all I can think of is that [[antiquity]] [[Sadie]] Lee [[melodies]]..<br /><br />\"Is that all there is??\" ...[[me]] was just an early teen when this smoked [[hal]] hit the U.S. [[yo]] was too young to get in the theater ([[however]] [[li]] did manage to sneak into \"Goodbye [[Bogota]]\"). [[Again]] a screening at a [[locally]] [[flick]] [[pompidou]] [[shyly]] - Finally I could see this [[cinematography]], [[apart]] now [[it]] was as old as my parents were when they schlepped to see it!!<br /><br />The ONLY reason this film was not condemned to the anonymous sands of [[period]] was because of the [[ignominy]] case sparked by its U.S. release. MILLIONS of [[inhabitants]] [[congregating]] to this stinker, thinking they were going to see a [[nationality]] film...Instead, they got lots of closeups of [[gnarled]], repulsive [[Turnips]], on-street [[interview]] in bland shopping malls, asinie political pretension...and feeble who-cares [[pretend]] sex scenes with [[suave]], [[livid]] [[officials]].<br /><br />Cultural icon, holy grail, historic artifact..[[theirs]] this thing was, shred it, burn it, then stuff the ashes in a lead box!<br /><br />Elite esthetes still scrape to [[finds]] [[interest]] in its [[bore]] [[alias]] revolutionary political spewings..But if it weren't for the censorship [[fuss]], it would have been ignored, then forgotten.<br /><br />[[Alternately]], the \"I Am Blank, Blank\" rhythymed title was repeated [[eternally]] for years as a titilation for [[gangbang]] films (I am Curious, Lavender - for [[queer]] films, I Am Curious, Black - for blaxploitation films, etc..) and [[each]] ten [[seniority]] or so the [[element]] rises from the [[mort]], to be viewed by a new generation of [[cretins]] who want to see that \"[[mala]] [[sexuality]] [[cinematography]]\" that \"revolutionized the [[teatro]] [[sector]]\"...<br /><br />[[Hoo]], avoid like the plague..Or if you MUST see it - rent the video and fast forward to the \"dirty\" [[zones]], just to get it over with.<br /><br />\n",
            "\n",
            "\n",
            "\n",
            "+-------------------------------+--------+\n",
            "| Attack Results                |        |\n",
            "+-------------------------------+--------+\n",
            "| Number of successful attacks: | 10     |\n",
            "| Number of failed attacks:     | 0      |\n",
            "| Number of skipped attacks:    | 0      |\n",
            "| Original accuracy:            | 100.0% |\n",
            "| Accuracy under attack:        | 0.0%   |\n",
            "| Attack success rate:          | 100.0% |\n",
            "| Average perturbed word %:     | 11.87% |\n",
            "| Average num. words per input: | 208.8  |\n",
            "| Avg num queries:              | 564.9  |\n",
            "+-------------------------------+--------+"
          ]
        },
        {
          "name": "stderr",
          "output_type": "stream",
          "text": [
            "\n"
          ]
        },
        {
          "name": "stdout",
          "output_type": "stream",
          "text": [
            "\n"
          ]
        },
        {
          "name": "stderr",
          "output_type": "stream",
          "text": [
            "/var/folders/p1/5swwv58x6zx6zvpgsynmmnjm0000gn/T/ipykernel_77068/2609057923.py:10: UserWarning: To copy construct from a tensor, it is recommended to use sourceTensor.clone().detach() or sourceTensor.clone().detach().requires_grad_(True), rather than torch.tensor(sourceTensor).\n",
            "  item = {key: torch.tensor(val[idx]) for key, val in self.encodings.items()}\n",
            "/var/folders/p1/5swwv58x6zx6zvpgsynmmnjm0000gn/T/ipykernel_77068/2609057923.py:11: UserWarning: To copy construct from a tensor, it is recommended to use sourceTensor.clone().detach() or sourceTensor.clone().detach().requires_grad_(True), rather than torch.tensor(sourceTensor).\n",
            "  item['labels'] = torch.tensor(self.labels[idx])\n"
          ]
        },
        {
          "name": "stdout",
          "output_type": "stream",
          "text": [
            "Accuracy on adversarial test set: 0.5\n",
            "F1 score on adversarial test set: 0.0\n"
          ]
        }
      ],
      "source": [
        "from sklearn.metrics import accuracy_score, f1_score\n",
        "\n",
        "# Step 9.1: Evaluate on Original Test Set\n",
        "test_tokens = tokenizer(test_reviews, padding='max_length', truncation=True, return_tensors=\"pt\")\n",
        "test_labels = torch.tensor(test_labels)\n",
        "\n",
        "test_dataset = IMDBDataset(test_tokens, test_labels)\n",
        "test_loader = DataLoader(test_dataset, batch_size=4)\n",
        "\n",
        "# Define evaluation function\n",
        "def evaluate(model, data_loader):\n",
        "    model.eval()\n",
        "    preds = []\n",
        "    labels = []\n",
        "    with torch.no_grad():\n",
        "        for batch in data_loader:\n",
        "            inputs = {key: val.to(device) for key, val in batch.items() if key != 'labels'}\n",
        "            outputs = model(**inputs)\n",
        "            preds.extend(torch.argmax(outputs.logits, axis=1).cpu().numpy())\n",
        "            labels.extend(batch['labels'].cpu().numpy())\n",
        "    return accuracy_score(labels, preds), f1_score(labels, preds)\n",
        "\n",
        "# Evaluate the retrained model on original test set\n",
        "accuracy, f1 = evaluate(model, test_loader)\n",
        "print(f'Accuracy on original test set: {accuracy}')\n",
        "print(f'F1 score on original test set: {f1}')\n",
        "\n",
        "# Step 9.2: Evaluate on Adversarial Test Set\n",
        "adversarial_test_examples = attacker.attack_dataset()  # Adjust this line\n",
        "\n",
        "adversarial_test_reviews = [ex.perturbed_text() for ex in adversarial_test_examples]\n",
        "adversarial_test_labels = [ex.original_result.output for ex in adversarial_test_examples]\n",
        "\n",
        "# Tokenize adversarial test set\n",
        "adversarial_test_tokens = tokenizer(adversarial_test_reviews, padding='max_length', truncation=True, return_tensors=\"pt\")\n",
        "adversarial_test_labels = torch.tensor(adversarial_test_labels)\n",
        "\n",
        "adversarial_test_dataset = IMDBDataset(adversarial_test_tokens, adversarial_test_labels)\n",
        "adversarial_test_loader = DataLoader(adversarial_test_dataset, batch_size=4)\n",
        "\n",
        "# Evaluate the retrained model on adversarial test set\n",
        "adv_accuracy, adv_f1 = evaluate(model, adversarial_test_loader)\n",
        "print(f'Accuracy on adversarial test set: {adv_accuracy}')\n",
        "print(f'F1 score on adversarial test set: {adv_f1}')"
      ]
    }
  ],
  "metadata": {
    "colab": {
      "provenance": []
    },
    "kernelspec": {
      "display_name": "Python 3",
      "name": "python3"
    },
    "language_info": {
      "codemirror_mode": {
        "name": "ipython",
        "version": 3
      },
      "file_extension": ".py",
      "mimetype": "text/x-python",
      "name": "python",
      "nbconvert_exporter": "python",
      "pygments_lexer": "ipython3",
      "version": "3.10.11"
    }
  },
  "nbformat": 4,
  "nbformat_minor": 0
}
